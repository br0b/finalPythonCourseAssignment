{
 "cells": [
  {
   "cell_type": "code",
   "execution_count": null,
   "id": "initial_id",
   "metadata": {
    "is_executing": true
   },
   "outputs": [],
   "source": [
    "import csv\n",
    "import matplotlib.pyplot as plt\n",
    "import pandas as pd\n",
    "\n",
    "from myutils import (get_project_config, get_bus_recording_stats,\n",
    "                     TimeParser, dataframe_to_bus_records, get_speeds,\n",
    "                     print_bus_speed_info, get_max_legal_speed,\n",
    "                     get_max_valid_speed, get_positions_of_interest,\n",
    "                     get_departure_file_path, get_departures_from_csv,\n",
    "                     get_bus_recs_of_brigade, Position)"
   ]
  },
  {
   "cell_type": "code",
   "execution_count": 2,
   "id": "e32842de026e8e37",
   "metadata": {
    "ExecuteTime": {
     "end_time": "2024-02-22T16:15:36.708764236Z",
     "start_time": "2024-02-22T16:15:36.647125024Z"
    }
   },
   "outputs": [],
   "source": [
    "# Load project config from file.\n",
    "config = get_project_config()\n",
    "time_format = config.get_time_format()\n",
    "time_parser = TimeParser(time_format)\n",
    "stats = get_bus_recording_stats(config, time_parser)"
   ]
  },
  {
   "cell_type": "markdown",
   "id": "bb5626d66aa44b6c",
   "metadata": {},
   "source": [
    "## 1. Number of speeding buses\n",
    "### 1a. Number of speeding buses"
   ]
  },
  {
   "cell_type": "code",
   "execution_count": 3,
   "id": "40a206e4873a598a",
   "metadata": {
    "ExecuteTime": {
     "end_time": "2024-02-22T16:15:38.213265940Z",
     "start_time": "2024-02-22T16:15:37.842151854Z"
    }
   },
   "outputs": [],
   "source": [
    "busesdf = pd.read_csv('data/buses.csv',\n",
    "                    header=None,\n",
    "                    names=['VehicleNumber', 'Line', 'Brigade', 'Time', 'Lon', 'Lat'])"
   ]
  },
  {
   "cell_type": "code",
   "execution_count": 4,
   "id": "5a981b93dc455589",
   "metadata": {
    "ExecuteTime": {
     "end_time": "2024-02-22T16:15:38.736928842Z",
     "start_time": "2024-02-22T16:15:38.650268046Z"
    }
   },
   "outputs": [],
   "source": [
    "busesdf.sort_values(by=['VehicleNumber', 'Time'], inplace=True)"
   ]
  },
  {
   "cell_type": "code",
   "execution_count": 5,
   "id": "c25b4cb4539e2751",
   "metadata": {
    "ExecuteTime": {
     "end_time": "2024-02-22T16:15:43.716277279Z",
     "start_time": "2024-02-22T16:15:39.245693436Z"
    }
   },
   "outputs": [],
   "source": [
    "bus_recs = dataframe_to_bus_records(busesdf, time_parser)"
   ]
  },
  {
   "cell_type": "code",
   "execution_count": 6,
   "id": "b7725ac27d04aed7",
   "metadata": {
    "ExecuteTime": {
     "end_time": "2024-02-22T16:15:47.653950264Z",
     "start_time": "2024-02-22T16:15:43.743780228Z"
    }
   },
   "outputs": [],
   "source": [
    "n_buses = len(set([rec.get_vehicle_number() for rec in bus_recs]))\n",
    "# Get list of speeds for almost every record (None for first record of each bus).\n",
    "speeds: list[float | None] = get_speeds(bus_recs)"
   ]
  },
  {
   "cell_type": "code",
   "execution_count": 7,
   "id": "b3415acd79ade1a9",
   "metadata": {
    "ExecuteTime": {
     "end_time": "2024-02-22T16:15:48.644254215Z",
     "start_time": "2024-02-22T16:15:48.194813217Z"
    }
   },
   "outputs": [
    {
     "name": "stdout",
     "output_type": "stream",
     "text": [
      "There are 1277 (82.55 %) buses that breached the speed of 50.0 km/h.\n",
      "\n",
      "0.22 % of buses breached the maximum valid speed of 90.0 km/h.\n"
     ]
    }
   ],
   "source": [
    "print_bus_speed_info(list(zip(bus_recs, speeds)),\n",
    "                     'speeding',\n",
    "                     get_max_legal_speed(),\n",
    "                     get_max_valid_speed())\n",
    "n_invalid_recs = len([s for s in speeds\n",
    "                      if s is not None and s > get_max_valid_speed()])\n",
    "print(f'{\"%.2f\" % (n_invalid_recs / len(speeds) * 100)} % '\n",
    "      f'of buses breached the maximum valid speed of '\n",
    "      f'{get_max_valid_speed() * 3.6} km/h.')"
   ]
  },
  {
   "cell_type": "markdown",
   "id": "55f879acd5ca70e6",
   "metadata": {},
   "source": [
    "---\n",
    "### 1b. Positions where many speeding buses were detected"
   ]
  },
  {
   "cell_type": "code",
   "execution_count": 10,
   "id": "cdc803cd",
   "metadata": {
    "ExecuteTime": {
     "end_time": "2024-02-22T16:16:19.384569797Z",
     "start_time": "2024-02-22T16:16:19.289927647Z"
    }
   },
   "outputs": [],
   "source": [
    "speeding_bus_recs = [x for x in zip(bus_recs, speeds)\n",
    "                     if x[1] and get_max_legal_speed() < x[1] < get_max_valid_speed()]"
   ]
  },
  {
   "cell_type": "code",
   "execution_count": null,
   "id": "22fe130b1d29e25d",
   "metadata": {
    "is_executing": true
   },
   "outputs": [],
   "source": [
    "positions_of_interest = [pos\n",
    "    for pos in get_positions_of_interest(speeding_bus_recs)\n",
    "    if pos[1] > 0.01 * n_buses]\n",
    "\n",
    "if len(positions_of_interest) > 0:\n",
    "    print('The positions where many speeding buses were detected are:')\n",
    "    for pos in positions_of_interest:\n",
    "        print(f'Pos: {pos[0]}. N buses: {pos[1]}')\n",
    "else:\n",
    "    print('Points where many speeding buses were detected were not found.')"
   ]
  },
  {
   "cell_type": "markdown",
   "id": "723f091a5a182d1b",
   "metadata": {},
   "source": [
    "---\n",
    "## 2. Punctuality of buses"
   ]
  },
  {
   "cell_type": "code",
   "execution_count": 30,
   "id": "e6c9a456fe5d0a59",
   "metadata": {
    "ExecuteTime": {
     "end_time": "2024-02-22T11:53:32.680170360Z",
     "start_time": "2024-02-22T11:52:56.355201148Z"
    }
   },
   "outputs": [
    {
     "name": "stdout",
     "output_type": "stream",
     "text": [
      "2024-02-20 09:10:15 - 2024-02-20 10:10:22\n",
      "\n",
      "File: data/departures/1.csv\n",
      "190 342 10041\n",
      "File: data/departures/2.csv\n",
      "416 636 20065\n",
      "File: data/departures/3.csv\n",
      "855 681 30082\n",
      "File: data/departures/4.csv\n",
      "1254 767 40131\n",
      "File: data/departures/5.csv\n",
      "1579 930 50176\n",
      "File: data/departures/6.csv\n",
      "1652 1404 60222\n",
      "File: data/departures/7.csv\n",
      "2026 1578 70249\n",
      "File: data/departures/8.csv\n",
      "2512 1578 80272\n",
      "File: data/departures/9.csv\n",
      "3008 1587 90313\n",
      "File: data/departures/10.csv\n",
      "3392 1702 100377\n",
      "File: data/departures/11.csv\n",
      "3803 1758 110446\n",
      "File: data/departures/12.csv\n",
      "4184 1777 120478\n",
      "File: data/departures/13.csv\n",
      "4535 1886 130524\n",
      "File: data/departures/14.csv\n",
      "4970 1943 140559\n",
      "File: data/departures/15.csv\n",
      "5427 1962 150565\n",
      "File: data/departures/16.csv\n",
      "5819 2054 160580\n",
      "File: data/departures/17.csv\n",
      "6265 2093 170598\n",
      "File: data/departures/18.csv\n",
      "6657 2240 180609\n",
      "File: data/departures/19.csv\n",
      "6885 2536 190662\n",
      "File: data/departures/20.csv\n",
      "7095 2853 200742\n",
      "File: data/departures/21.csv\n",
      "7352 3101 210761\n",
      "File: data/departures/22.csv\n",
      "7793 3101 220781\n",
      "File: data/departures/23.csv\n",
      "8237 3101 230785\n",
      "File: data/departures/24.csv\n",
      "8688 3101 240803\n",
      "File: data/departures/25.csv\n",
      "9219 3101 250861\n",
      "File: data/departures/26.csv\n",
      "9725 3101 260903\n",
      "File: data/departures/27.csv\n",
      "10100 3255 270936\n",
      "File: data/departures/28.csv\n",
      "10520 3309 280940\n",
      "File: data/departures/29.csv\n",
      "11011 3309 290976\n",
      "File: data/departures/30.csv\n",
      "11362 3350 301001\n",
      "File: data/departures/31.csv\n",
      "11867 3350 311004\n",
      "File: data/departures/32.csv\n",
      "12342 3364 321017\n",
      "File: data/departures/33.csv\n",
      "12788 3398 331033\n",
      "File: data/departures/34.csv\n",
      "13032 3662 341120\n",
      "File: data/departures/35.csv\n",
      "13330 3870 351130\n",
      "File: data/departures/36.csv\n",
      "13818 3880 361150\n",
      "File: data/departures/37.csv\n",
      "14308 3887 371157\n",
      "File: data/departures/38.csv\n",
      "14813 3887 381208\n",
      "File: data/departures/39.csv\n",
      "15347 3901 391266\n",
      "File: data/departures/40.csv\n",
      "15889 3910 401287\n",
      "File: data/departures/41.csv\n",
      "16304 4032 411349\n",
      "File: data/departures/42.csv\n",
      "16800 4065 421389\n",
      "File: data/departures/43.csv\n",
      "17288 4082 431400\n",
      "File: data/departures/44.csv\n",
      "17715 4133 441420\n",
      "File: data/departures/45.csv\n",
      "18003 4382 451474\n",
      "File: data/departures/46.csv\n",
      "18320 4589 461511\n",
      "File: data/departures/47.csv\n",
      "18788 4643 471518\n",
      "File: data/departures/48.csv\n",
      "19243 4687 481572\n",
      "File: data/departures/49.csv\n",
      "19690 4722 491577\n",
      "File: data/departures/50.csv\n",
      "20131 4771 501587\n",
      "File: data/departures/51.csv\n",
      "20362 5053 511599\n",
      "File: data/departures/52.csv\n",
      "20524 5436 521713\n",
      "File: data/departures/53.csv\n",
      "20680 5785 531716\n",
      "File: data/departures/54.csv\n",
      "21167 5816 541750\n",
      "File: data/departures/55.csv\n",
      "21706 5818 551791\n",
      "File: data/departures/56.csv\n",
      "22120 5898 561808\n",
      "File: data/departures/57.csv\n",
      "22620 5923 571908\n",
      "File: data/departures/58.csv\n",
      "23054 6017 581957\n",
      "File: data/departures/59.csv\n",
      "23434 6103 591975\n",
      "File: data/departures/60.csv\n",
      "23950 6103 601978\n",
      "File: data/departures/61.csv\n",
      "24435 6121 611979\n",
      "File: data/departures/62.csv\n",
      "24649 6422 622008\n",
      "File: data/departures/63.csv\n",
      "25055 6520 632051\n",
      "File: data/departures/64.csv\n",
      "25498 6591 642075\n",
      "File: data/departures/65.csv\n",
      "25839 6757 652109\n",
      "File: data/departures/66.csv\n",
      "26314 6819 662144\n",
      "File: data/departures/67.csv\n",
      "26579 7066 672194\n",
      "File: data/departures/68.csv\n",
      "26754 7450 682207\n",
      "File: data/departures/69.csv\n",
      "27054 7688 692259\n",
      "File: data/departures/70.csv\n",
      "27531 7716 702296\n",
      "File: data/departures/71.csv\n",
      "27922 7842 712307\n",
      "File: data/departures/72.csv\n",
      "28248 8052 722425\n",
      "File: data/departures/73.csv\n",
      "28627 8224 732428\n",
      "File: data/departures/74.csv\n",
      "28950 8433 742612\n",
      "File: data/departures/75.csv\n",
      "29098 8826 752646\n",
      "File: data/departures/76.csv\n",
      "29455 9008 762669\n",
      "File: data/departures/77.csv\n",
      "29910 9100 772679\n",
      "File: data/departures/78.csv\n",
      "30378 9144 782753\n",
      "File: data/departures/79.csv\n",
      "30843 9152 792756\n",
      "File: data/departures/80.csv\n",
      "31223 9251 802816\n",
      "File: data/departures/81.csv\n",
      "31510 9498 812838\n",
      "File: data/departures/82.csv\n",
      "31834 9701 822928\n",
      "File: data/departures/83.csv\n",
      "32053 10018 832989\n",
      "File: data/departures/84.csv\n",
      "32522 10098 843031\n",
      "File: data/departures/85.csv\n",
      "32964 10205 853063\n",
      "File: data/departures/86.csv\n",
      "33355 10365 863082\n",
      "File: data/departures/87.csv\n",
      "33853 10397 873224\n",
      "File: data/departures/88.csv\n",
      "33957 10829 883286\n",
      "File: data/departures/89.csv\n",
      "34120 11223 893373\n",
      "File: data/departures/90.csv\n",
      "34164 11295 896271\n"
     ]
    }
   ],
   "source": [
    "# Iterate through the departure files\n",
    "# We use the converters parameter to keep the leading zeros.\n",
    "bus_stops_df = pd.read_csv('data/bus_stops.csv',\n",
    "                           header=None,\n",
    "                           names=['StopId', 'StopNum', 'Lat', 'Lon'],\n",
    "                           converters={'StopId': str, 'StopNum': str})\n",
    "\n",
    "file_id = 1\n",
    "path = get_departure_file_path(config, file_id)\n",
    "print(f'{stats.get_processing_start_time()} - '\n",
    "      f'{stats.get_processing_end_time()}\\n')\n",
    "n_departures = 0\n",
    "n_failed_departures = 0\n",
    "delays = []\n",
    "\n",
    "# Get Departures from csv\n",
    "while path.exists():\n",
    "    print(f'File: {path}')\n",
    "    for dep in get_departures_from_csv(path, time_parser):\n",
    "        n_departures += 1\n",
    "        dep_time = dep.get_time()\n",
    "        if (dep_time < stats.get_processing_start_time()\n",
    "            or dep_time > stats.get_processing_end_time()):\n",
    "            continue\n",
    "        bus_stop_row = bus_stops_df.loc[\n",
    "            (bus_stops_df['StopId'] == dep.get_bus_stop_id())\n",
    "            & (bus_stops_df['StopNum'] == dep.get_bus_stop_number())]\n",
    "        # Get position\n",
    "        bus_stop_pos = Position(bus_stop_row['Lat'].values[0],\n",
    "                                bus_stop_row['Lon'].values[0])\n",
    "        line_bus_recs = get_bus_recs_of_brigade(\n",
    "            busesdf,\n",
    "            dep.get_line(),\n",
    "            dep.get_brigade(),\n",
    "            time_parser)\n",
    "        if len(line_bus_recs) > 0:\n",
    "            distance_from_bus_stop = [(rec.get_position().distance_to(bus_stop_pos), i)\n",
    "                                      for i, rec in enumerate(line_bus_recs)]\n",
    "            closest_rec_i = min(distance_from_bus_stop)[1]\n",
    "            real_time = line_bus_recs[closest_rec_i].get_time()\n",
    "            planned_time = dep.get_time()\n",
    "            delays.append(real_time - planned_time)\n",
    "        else:\n",
    "            n_failed_departures += 1\n",
    "    print(len(delays), n_failed_departures, n_departures)\n",
    "    file_id += 1\n",
    "    path = get_departure_file_path(config, file_id)"
   ]
  },
  {
   "cell_type": "code",
   "execution_count": 32,
   "id": "2cfa722fac6584",
   "metadata": {
    "ExecuteTime": {
     "end_time": "2024-02-21T23:01:35.988748494Z",
     "start_time": "2024-02-21T23:01:35.961653570Z"
    }
   },
   "outputs": [],
   "source": [
    "# Save delays to CSV\n",
    "with open('analysis/delays.csv', 'w', newline='') as csvfile:\n",
    "    writer = csv.writer(csvfile)\n",
    "    for delay in delays:\n",
    "        writer.writerow([delay.total_seconds()])"
   ]
  },
  {
   "cell_type": "code",
   "execution_count": 33,
   "id": "b782ee342364a523",
   "metadata": {
    "ExecuteTime": {
     "end_time": "2024-02-21T23:08:16.642269101Z",
     "start_time": "2024-02-21T23:08:16.342279566Z"
    }
   },
   "outputs": [
    {
     "data": {
      "image/png": "[encoded data removed]",
      "text/plain": [
       "<Figure size 640x480 with 1 Axes>"
      ]
     },
     "metadata": {},
     "output_type": "display_data"
    }
   ],
   "source": [
    "plt.hist([delay.total_seconds() for delay in delays], bins=range(15))\n",
    "plt.show()"
   ]
  },
  {
   "cell_type": "code",
   "execution_count": 35,
   "id": "6619cf37704a1d2c",
   "metadata": {
    "ExecuteTime": {
     "end_time": "2024-02-21T23:11:43.307739832Z",
     "start_time": "2024-02-21T23:11:42.903683719Z"
    }
   },
   "outputs": [
    {
     "ename": "TypeError",
     "evalue": "cannot pickle '_csv.writer' object",
     "output_type": "error",
     "traceback": [
      "\u001B[0;31m---------------------------------------------------------------------------\u001B[0m",
      "\u001B[0;31mTypeError\u001B[0m                                 Traceback (most recent call last)",
      "Cell \u001B[0;32mIn[35], line 2\u001B[0m\n\u001B[1;32m      1\u001B[0m \u001B[38;5;28;01mimport\u001B[39;00m \u001B[38;5;21;01mdill\u001B[39;00m\n\u001B[0;32m----> 2\u001B[0m \u001B[43mdill\u001B[49m\u001B[38;5;241;43m.\u001B[39;49m\u001B[43mdump_module\u001B[49m\u001B[43m(\u001B[49m\u001B[38;5;124;43m'\u001B[39;49m\u001B[38;5;124;43mnotebook_env.db\u001B[39;49m\u001B[38;5;124;43m'\u001B[39;49m\u001B[43m)\u001B[49m\n",
      "File \u001B[0;32m~/finalPythonAssignment/venv/lib/python3.11/site-packages/dill/session.py:258\u001B[0m, in \u001B[0;36mdump_module\u001B[0;34m(filename, module, refimported, **kwds)\u001B[0m\n\u001B[1;32m    256\u001B[0m     pickler\u001B[38;5;241m.\u001B[39m_first_pass \u001B[38;5;241m=\u001B[39m \u001B[38;5;28;01mTrue\u001B[39;00m\n\u001B[1;32m    257\u001B[0m     pickler\u001B[38;5;241m.\u001B[39m_main_modified \u001B[38;5;241m=\u001B[39m main \u001B[38;5;129;01mis\u001B[39;00m \u001B[38;5;129;01mnot\u001B[39;00m pickler\u001B[38;5;241m.\u001B[39m_original_main\n\u001B[0;32m--> 258\u001B[0m     \u001B[43mpickler\u001B[49m\u001B[38;5;241;43m.\u001B[39;49m\u001B[43mdump\u001B[49m\u001B[43m(\u001B[49m\u001B[43mmain\u001B[49m\u001B[43m)\u001B[49m\n\u001B[1;32m    259\u001B[0m \u001B[38;5;28;01mfinally\u001B[39;00m:\n\u001B[1;32m    260\u001B[0m     \u001B[38;5;28;01mif\u001B[39;00m file \u001B[38;5;129;01mis\u001B[39;00m \u001B[38;5;129;01mnot\u001B[39;00m filename:  \u001B[38;5;66;03m# if newly opened file\u001B[39;00m\n",
      "File \u001B[0;32m~/finalPythonAssignment/venv/lib/python3.11/site-packages/dill/_dill.py:420\u001B[0m, in \u001B[0;36mPickler.dump\u001B[0;34m(self, obj)\u001B[0m\n\u001B[1;32m    418\u001B[0m \u001B[38;5;28;01mdef\u001B[39;00m \u001B[38;5;21mdump\u001B[39m(\u001B[38;5;28mself\u001B[39m, obj): \u001B[38;5;66;03m#NOTE: if settings change, need to update attributes\u001B[39;00m\n\u001B[1;32m    419\u001B[0m     logger\u001B[38;5;241m.\u001B[39mtrace_setup(\u001B[38;5;28mself\u001B[39m)\n\u001B[0;32m--> 420\u001B[0m     \u001B[43mStockPickler\u001B[49m\u001B[38;5;241;43m.\u001B[39;49m\u001B[43mdump\u001B[49m\u001B[43m(\u001B[49m\u001B[38;5;28;43mself\u001B[39;49m\u001B[43m,\u001B[49m\u001B[43m \u001B[49m\u001B[43mobj\u001B[49m\u001B[43m)\u001B[49m\n",
      "File \u001B[0;32m/usr/lib/python3.11/pickle.py:487\u001B[0m, in \u001B[0;36m_Pickler.dump\u001B[0;34m(self, obj)\u001B[0m\n\u001B[1;32m    485\u001B[0m \u001B[38;5;28;01mif\u001B[39;00m \u001B[38;5;28mself\u001B[39m\u001B[38;5;241m.\u001B[39mproto \u001B[38;5;241m>\u001B[39m\u001B[38;5;241m=\u001B[39m \u001B[38;5;241m4\u001B[39m:\n\u001B[1;32m    486\u001B[0m     \u001B[38;5;28mself\u001B[39m\u001B[38;5;241m.\u001B[39mframer\u001B[38;5;241m.\u001B[39mstart_framing()\n\u001B[0;32m--> 487\u001B[0m \u001B[38;5;28;43mself\u001B[39;49m\u001B[38;5;241;43m.\u001B[39;49m\u001B[43msave\u001B[49m\u001B[43m(\u001B[49m\u001B[43mobj\u001B[49m\u001B[43m)\u001B[49m\n\u001B[1;32m    488\u001B[0m \u001B[38;5;28mself\u001B[39m\u001B[38;5;241m.\u001B[39mwrite(STOP)\n\u001B[1;32m    489\u001B[0m \u001B[38;5;28mself\u001B[39m\u001B[38;5;241m.\u001B[39mframer\u001B[38;5;241m.\u001B[39mend_framing()\n",
      "File \u001B[0;32m~/finalPythonAssignment/venv/lib/python3.11/site-packages/dill/_dill.py:414\u001B[0m, in \u001B[0;36mPickler.save\u001B[0;34m(self, obj, save_persistent_id)\u001B[0m\n\u001B[1;32m    412\u001B[0m     msg \u001B[38;5;241m=\u001B[39m \u001B[38;5;124m\"\u001B[39m\u001B[38;5;124mCan\u001B[39m\u001B[38;5;124m'\u001B[39m\u001B[38;5;124mt pickle \u001B[39m\u001B[38;5;132;01m%s\u001B[39;00m\u001B[38;5;124m: attribute lookup builtins.generator failed\u001B[39m\u001B[38;5;124m\"\u001B[39m \u001B[38;5;241m%\u001B[39m GeneratorType\n\u001B[1;32m    413\u001B[0m     \u001B[38;5;28;01mraise\u001B[39;00m PicklingError(msg)\n\u001B[0;32m--> 414\u001B[0m \u001B[43mStockPickler\u001B[49m\u001B[38;5;241;43m.\u001B[39;49m\u001B[43msave\u001B[49m\u001B[43m(\u001B[49m\u001B[38;5;28;43mself\u001B[39;49m\u001B[43m,\u001B[49m\u001B[43m \u001B[49m\u001B[43mobj\u001B[49m\u001B[43m,\u001B[49m\u001B[43m \u001B[49m\u001B[43msave_persistent_id\u001B[49m\u001B[43m)\u001B[49m\n",
      "File \u001B[0;32m/usr/lib/python3.11/pickle.py:560\u001B[0m, in \u001B[0;36m_Pickler.save\u001B[0;34m(self, obj, save_persistent_id)\u001B[0m\n\u001B[1;32m    558\u001B[0m f \u001B[38;5;241m=\u001B[39m \u001B[38;5;28mself\u001B[39m\u001B[38;5;241m.\u001B[39mdispatch\u001B[38;5;241m.\u001B[39mget(t)\n\u001B[1;32m    559\u001B[0m \u001B[38;5;28;01mif\u001B[39;00m f \u001B[38;5;129;01mis\u001B[39;00m \u001B[38;5;129;01mnot\u001B[39;00m \u001B[38;5;28;01mNone\u001B[39;00m:\n\u001B[0;32m--> 560\u001B[0m     \u001B[43mf\u001B[49m\u001B[43m(\u001B[49m\u001B[38;5;28;43mself\u001B[39;49m\u001B[43m,\u001B[49m\u001B[43m \u001B[49m\u001B[43mobj\u001B[49m\u001B[43m)\u001B[49m  \u001B[38;5;66;03m# Call unbound method with explicit self\u001B[39;00m\n\u001B[1;32m    561\u001B[0m     \u001B[38;5;28;01mreturn\u001B[39;00m\n\u001B[1;32m    563\u001B[0m \u001B[38;5;66;03m# Check private dispatch table if any, or else\u001B[39;00m\n\u001B[1;32m    564\u001B[0m \u001B[38;5;66;03m# copyreg.dispatch_table\u001B[39;00m\n",
      "File \u001B[0;32m~/finalPythonAssignment/venv/lib/python3.11/site-packages/dill/_dill.py:1688\u001B[0m, in \u001B[0;36msave_module\u001B[0;34m(pickler, obj)\u001B[0m\n\u001B[1;32m   1686\u001B[0m         \u001B[38;5;28;01mif\u001B[39;00m \u001B[38;5;28mgetattr\u001B[39m(main_dict\u001B[38;5;241m.\u001B[39mget(item), \u001B[38;5;124m'\u001B[39m\u001B[38;5;124m__module__\u001B[39m\u001B[38;5;124m'\u001B[39m, \u001B[38;5;124m'\u001B[39m\u001B[38;5;124m'\u001B[39m)\u001B[38;5;241m.\u001B[39mstartswith(\u001B[38;5;124m'\u001B[39m\u001B[38;5;124mIPython\u001B[39m\u001B[38;5;124m'\u001B[39m):\n\u001B[1;32m   1687\u001B[0m             \u001B[38;5;28;01mdel\u001B[39;00m main_dict[item]\n\u001B[0;32m-> 1688\u001B[0m     \u001B[43mpickler\u001B[49m\u001B[38;5;241;43m.\u001B[39;49m\u001B[43msave_reduce\u001B[49m\u001B[43m(\u001B[49m\u001B[43m_import_module\u001B[49m\u001B[43m,\u001B[49m\u001B[43m \u001B[49m\u001B[43m(\u001B[49m\u001B[43mmod_name\u001B[49m\u001B[43m,\u001B[49m\u001B[43m)\u001B[49m\u001B[43m,\u001B[49m\u001B[43m \u001B[49m\u001B[43mobj\u001B[49m\u001B[38;5;241;43m=\u001B[39;49m\u001B[43mobj\u001B[49m\u001B[43m,\u001B[49m\u001B[43m \u001B[49m\u001B[43mstate\u001B[49m\u001B[38;5;241;43m=\u001B[39;49m\u001B[43mmain_dict\u001B[49m\u001B[43m)\u001B[49m\n\u001B[1;32m   1689\u001B[0m     logger\u001B[38;5;241m.\u001B[39mtrace(pickler, \u001B[38;5;124m\"\u001B[39m\u001B[38;5;124m# M1\u001B[39m\u001B[38;5;124m\"\u001B[39m)\n\u001B[1;32m   1690\u001B[0m \u001B[38;5;28;01melif\u001B[39;00m obj\u001B[38;5;241m.\u001B[39m\u001B[38;5;18m__name__\u001B[39m \u001B[38;5;241m==\u001B[39m \u001B[38;5;124m\"\u001B[39m\u001B[38;5;124mdill._dill\u001B[39m\u001B[38;5;124m\"\u001B[39m:\n",
      "File \u001B[0;32m/usr/lib/python3.11/pickle.py:717\u001B[0m, in \u001B[0;36m_Pickler.save_reduce\u001B[0;34m(self, func, args, state, listitems, dictitems, state_setter, obj)\u001B[0m\n\u001B[1;32m    715\u001B[0m \u001B[38;5;28;01mif\u001B[39;00m state \u001B[38;5;129;01mis\u001B[39;00m \u001B[38;5;129;01mnot\u001B[39;00m \u001B[38;5;28;01mNone\u001B[39;00m:\n\u001B[1;32m    716\u001B[0m     \u001B[38;5;28;01mif\u001B[39;00m state_setter \u001B[38;5;129;01mis\u001B[39;00m \u001B[38;5;28;01mNone\u001B[39;00m:\n\u001B[0;32m--> 717\u001B[0m         \u001B[43msave\u001B[49m\u001B[43m(\u001B[49m\u001B[43mstate\u001B[49m\u001B[43m)\u001B[49m\n\u001B[1;32m    718\u001B[0m         write(BUILD)\n\u001B[1;32m    719\u001B[0m     \u001B[38;5;28;01melse\u001B[39;00m:\n\u001B[1;32m    720\u001B[0m         \u001B[38;5;66;03m# If a state_setter is specified, call it instead of load_build\u001B[39;00m\n\u001B[1;32m    721\u001B[0m         \u001B[38;5;66;03m# to update obj's with its previous state.\u001B[39;00m\n\u001B[1;32m    722\u001B[0m         \u001B[38;5;66;03m# First, push state_setter and its tuple of expected arguments\u001B[39;00m\n\u001B[1;32m    723\u001B[0m         \u001B[38;5;66;03m# (obj, state) onto the stack.\u001B[39;00m\n",
      "File \u001B[0;32m~/finalPythonAssignment/venv/lib/python3.11/site-packages/dill/_dill.py:414\u001B[0m, in \u001B[0;36mPickler.save\u001B[0;34m(self, obj, save_persistent_id)\u001B[0m\n\u001B[1;32m    412\u001B[0m     msg \u001B[38;5;241m=\u001B[39m \u001B[38;5;124m\"\u001B[39m\u001B[38;5;124mCan\u001B[39m\u001B[38;5;124m'\u001B[39m\u001B[38;5;124mt pickle \u001B[39m\u001B[38;5;132;01m%s\u001B[39;00m\u001B[38;5;124m: attribute lookup builtins.generator failed\u001B[39m\u001B[38;5;124m\"\u001B[39m \u001B[38;5;241m%\u001B[39m GeneratorType\n\u001B[1;32m    413\u001B[0m     \u001B[38;5;28;01mraise\u001B[39;00m PicklingError(msg)\n\u001B[0;32m--> 414\u001B[0m \u001B[43mStockPickler\u001B[49m\u001B[38;5;241;43m.\u001B[39;49m\u001B[43msave\u001B[49m\u001B[43m(\u001B[49m\u001B[38;5;28;43mself\u001B[39;49m\u001B[43m,\u001B[49m\u001B[43m \u001B[49m\u001B[43mobj\u001B[49m\u001B[43m,\u001B[49m\u001B[43m \u001B[49m\u001B[43msave_persistent_id\u001B[49m\u001B[43m)\u001B[49m\n",
      "File \u001B[0;32m/usr/lib/python3.11/pickle.py:560\u001B[0m, in \u001B[0;36m_Pickler.save\u001B[0;34m(self, obj, save_persistent_id)\u001B[0m\n\u001B[1;32m    558\u001B[0m f \u001B[38;5;241m=\u001B[39m \u001B[38;5;28mself\u001B[39m\u001B[38;5;241m.\u001B[39mdispatch\u001B[38;5;241m.\u001B[39mget(t)\n\u001B[1;32m    559\u001B[0m \u001B[38;5;28;01mif\u001B[39;00m f \u001B[38;5;129;01mis\u001B[39;00m \u001B[38;5;129;01mnot\u001B[39;00m \u001B[38;5;28;01mNone\u001B[39;00m:\n\u001B[0;32m--> 560\u001B[0m     \u001B[43mf\u001B[49m\u001B[43m(\u001B[49m\u001B[38;5;28;43mself\u001B[39;49m\u001B[43m,\u001B[49m\u001B[43m \u001B[49m\u001B[43mobj\u001B[49m\u001B[43m)\u001B[49m  \u001B[38;5;66;03m# Call unbound method with explicit self\u001B[39;00m\n\u001B[1;32m    561\u001B[0m     \u001B[38;5;28;01mreturn\u001B[39;00m\n\u001B[1;32m    563\u001B[0m \u001B[38;5;66;03m# Check private dispatch table if any, or else\u001B[39;00m\n\u001B[1;32m    564\u001B[0m \u001B[38;5;66;03m# copyreg.dispatch_table\u001B[39;00m\n",
      "File \u001B[0;32m~/finalPythonAssignment/venv/lib/python3.11/site-packages/dill/_dill.py:1217\u001B[0m, in \u001B[0;36msave_module_dict\u001B[0;34m(pickler, obj)\u001B[0m\n\u001B[1;32m   1214\u001B[0m     \u001B[38;5;28;01mif\u001B[39;00m is_dill(pickler, child\u001B[38;5;241m=\u001B[39m\u001B[38;5;28;01mFalse\u001B[39;00m) \u001B[38;5;129;01mand\u001B[39;00m pickler\u001B[38;5;241m.\u001B[39m_session:\n\u001B[1;32m   1215\u001B[0m         \u001B[38;5;66;03m# we only care about session the first pass thru\u001B[39;00m\n\u001B[1;32m   1216\u001B[0m         pickler\u001B[38;5;241m.\u001B[39m_first_pass \u001B[38;5;241m=\u001B[39m \u001B[38;5;28;01mFalse\u001B[39;00m\n\u001B[0;32m-> 1217\u001B[0m     \u001B[43mStockPickler\u001B[49m\u001B[38;5;241;43m.\u001B[39;49m\u001B[43msave_dict\u001B[49m\u001B[43m(\u001B[49m\u001B[43mpickler\u001B[49m\u001B[43m,\u001B[49m\u001B[43m \u001B[49m\u001B[43mobj\u001B[49m\u001B[43m)\u001B[49m\n\u001B[1;32m   1218\u001B[0m     logger\u001B[38;5;241m.\u001B[39mtrace(pickler, \u001B[38;5;124m\"\u001B[39m\u001B[38;5;124m# D2\u001B[39m\u001B[38;5;124m\"\u001B[39m)\n\u001B[1;32m   1219\u001B[0m \u001B[38;5;28;01mreturn\u001B[39;00m\n",
      "File \u001B[0;32m/usr/lib/python3.11/pickle.py:972\u001B[0m, in \u001B[0;36m_Pickler.save_dict\u001B[0;34m(self, obj)\u001B[0m\n\u001B[1;32m    969\u001B[0m     \u001B[38;5;28mself\u001B[39m\u001B[38;5;241m.\u001B[39mwrite(MARK \u001B[38;5;241m+\u001B[39m DICT)\n\u001B[1;32m    971\u001B[0m \u001B[38;5;28mself\u001B[39m\u001B[38;5;241m.\u001B[39mmemoize(obj)\n\u001B[0;32m--> 972\u001B[0m \u001B[38;5;28;43mself\u001B[39;49m\u001B[38;5;241;43m.\u001B[39;49m\u001B[43m_batch_setitems\u001B[49m\u001B[43m(\u001B[49m\u001B[43mobj\u001B[49m\u001B[38;5;241;43m.\u001B[39;49m\u001B[43mitems\u001B[49m\u001B[43m(\u001B[49m\u001B[43m)\u001B[49m\u001B[43m)\u001B[49m\n",
      "File \u001B[0;32m/usr/lib/python3.11/pickle.py:998\u001B[0m, in \u001B[0;36m_Pickler._batch_setitems\u001B[0;34m(self, items)\u001B[0m\n\u001B[1;32m    996\u001B[0m     \u001B[38;5;28;01mfor\u001B[39;00m k, v \u001B[38;5;129;01min\u001B[39;00m tmp:\n\u001B[1;32m    997\u001B[0m         save(k)\n\u001B[0;32m--> 998\u001B[0m         \u001B[43msave\u001B[49m\u001B[43m(\u001B[49m\u001B[43mv\u001B[49m\u001B[43m)\u001B[49m\n\u001B[1;32m    999\u001B[0m     write(SETITEMS)\n\u001B[1;32m   1000\u001B[0m \u001B[38;5;28;01melif\u001B[39;00m n:\n",
      "File \u001B[0;32m~/finalPythonAssignment/venv/lib/python3.11/site-packages/dill/_dill.py:414\u001B[0m, in \u001B[0;36mPickler.save\u001B[0;34m(self, obj, save_persistent_id)\u001B[0m\n\u001B[1;32m    412\u001B[0m     msg \u001B[38;5;241m=\u001B[39m \u001B[38;5;124m\"\u001B[39m\u001B[38;5;124mCan\u001B[39m\u001B[38;5;124m'\u001B[39m\u001B[38;5;124mt pickle \u001B[39m\u001B[38;5;132;01m%s\u001B[39;00m\u001B[38;5;124m: attribute lookup builtins.generator failed\u001B[39m\u001B[38;5;124m\"\u001B[39m \u001B[38;5;241m%\u001B[39m GeneratorType\n\u001B[1;32m    413\u001B[0m     \u001B[38;5;28;01mraise\u001B[39;00m PicklingError(msg)\n\u001B[0;32m--> 414\u001B[0m \u001B[43mStockPickler\u001B[49m\u001B[38;5;241;43m.\u001B[39;49m\u001B[43msave\u001B[49m\u001B[43m(\u001B[49m\u001B[38;5;28;43mself\u001B[39;49m\u001B[43m,\u001B[49m\u001B[43m \u001B[49m\u001B[43mobj\u001B[49m\u001B[43m,\u001B[49m\u001B[43m \u001B[49m\u001B[43msave_persistent_id\u001B[49m\u001B[43m)\u001B[49m\n",
      "File \u001B[0;32m/usr/lib/python3.11/pickle.py:578\u001B[0m, in \u001B[0;36m_Pickler.save\u001B[0;34m(self, obj, save_persistent_id)\u001B[0m\n\u001B[1;32m    576\u001B[0m reduce \u001B[38;5;241m=\u001B[39m \u001B[38;5;28mgetattr\u001B[39m(obj, \u001B[38;5;124m\"\u001B[39m\u001B[38;5;124m__reduce_ex__\u001B[39m\u001B[38;5;124m\"\u001B[39m, \u001B[38;5;28;01mNone\u001B[39;00m)\n\u001B[1;32m    577\u001B[0m \u001B[38;5;28;01mif\u001B[39;00m reduce \u001B[38;5;129;01mis\u001B[39;00m \u001B[38;5;129;01mnot\u001B[39;00m \u001B[38;5;28;01mNone\u001B[39;00m:\n\u001B[0;32m--> 578\u001B[0m     rv \u001B[38;5;241m=\u001B[39m reduce(\u001B[38;5;28mself\u001B[39m\u001B[38;5;241m.\u001B[39mproto)\n\u001B[1;32m    579\u001B[0m \u001B[38;5;28;01melse\u001B[39;00m:\n\u001B[1;32m    580\u001B[0m     reduce \u001B[38;5;241m=\u001B[39m \u001B[38;5;28mgetattr\u001B[39m(obj, \u001B[38;5;124m\"\u001B[39m\u001B[38;5;124m__reduce__\u001B[39m\u001B[38;5;124m\"\u001B[39m, \u001B[38;5;28;01mNone\u001B[39;00m)\n",
      "\u001B[0;31mTypeError\u001B[0m: cannot pickle '_csv.writer' object"
     ]
    }
   ],
   "source": [
    "import dill\n",
    "dill.dump_module('notebook_env.db')"
   ]
  },
  {
   "cell_type": "code",
   "execution_count": null,
   "id": "7e61cb07b81d8cb5",
   "metadata": {},
   "outputs": [],
   "source": []
  }
 ],
 "metadata": {
  "kernelspec": {
   "name": "python3",
   "language": "python",
   "display_name": "Python 3 (ipykernel)"
  },
  "language_info": {
   "codemirror_mode": {
    "name": "ipython",
    "version": 3
   },
   "file_extension": ".py",
   "mimetype": "text/x-python",
   "name": "python",
   "nbconvert_exporter": "python",
   "pygments_lexer": "ipython3",
   "version": "3.11.2"
  }
 },
 "nbformat": 4,
 "nbformat_minor": 5
}
